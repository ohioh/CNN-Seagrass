{
 "cells": [
  {
   "cell_type": "code",
   "execution_count": 202,
   "metadata": {},
   "outputs": [],
   "source": []
  },
  {
   "cell_type": "markdown",
   "metadata": {},
   "source": [
    "https://note.nkmk.me/en/python-pillow-image-crop-trimming/"
   ]
  },
  {
   "cell_type": "code",
   "execution_count": 3,
   "metadata": {},
   "outputs": [],
   "source": [
    "from PIL import Image\n",
    "#>Grap Picture\n",
    "im = Image.open(\"E:\\Code\\Seegras\\zosteraPictures\\original\\ZosteraMarina_1.jpg\")"
   ]
  },
  {
   "cell_type": "code",
   "execution_count": 212,
   "metadata": {},
   "outputs": [
    {
     "name": "stdout",
     "output_type": "stream",
     "text": [
      "JPEG (9000, 12000) RGB\n"
     ]
    }
   ],
   "source": [
    "print(im.format, im.size, im.mode)\n",
    "im.show()"
   ]
  },
  {
   "cell_type": "code",
   "execution_count": 6,
   "metadata": {},
   "outputs": [],
   "source": [
    "cropSizeX= 1800\n",
    "cropSizeY= 1800\n",
    "startX = 0\n",
    "startY = 0\n",
    "\n",
    "#Picture-Pointer\n",
    "left = 0\n",
    "upper = 0 \n",
    "right = 0\n",
    "lower = 0\n",
    "\n",
    "pictureSizeX=im.size[0]\n",
    "pictureSizeY=im.size[1]\n",
    "\n",
    "#maximalXIterations = int(pictureSizeX / cropSizeX)\n",
    "maximalXIterations = 5\n",
    "maximalYIterations = int(pictureSizeY / cropSizeY)\n",
    "\n",
    "actualXIteration = 1\n",
    "actualYIteration = 1\n",
    "\n"
   ]
  },
  {
   "cell_type": "code",
   "execution_count": 5,
   "metadata": {},
   "outputs": [
    {
     "name": "stdout",
     "output_type": "stream",
     "text": [
      "1 0\n",
      "done 1\n",
      "2 180\n",
      "3 180\n",
      "done  3\n",
      "2 180\n",
      "3 180\n",
      "done  4\n"
     ]
    }
   ],
   "source": [
    "\n",
    "im = Image.open(\"E:\\Code\\Seegras\\zosteraPictures\\original\\ZosteraMarina_1.jpg\")\n",
    "for i in range(maximalXIterations-1):\n",
    "    if i == 0:\n",
    "        actualXCrop = startX\n",
    "        print('1',actualXCrop)\n",
    "        actualYCrop = startY\n",
    "        im_crop = im.crop((actualXCrop, actualYCrop, cropSizeX, cropSizeY))\n",
    "        im_crop.save(\"./zosteraPictures/snippet/test0.jpg\", quality=95)\n",
    "        print(\"done 1\")\n",
    "    if i > 1 :   \n",
    "        im = Image.open(\"E:\\Code\\Seegras\\zosteraPictures\\original\\ZosteraMarina_1.jpg\")\n",
    "        #actualXCrop = actualXCrop + int(cropSizeX)\n",
    "        actualXCrop =  180\n",
    "        print('2',actualXCrop)\n",
    "        actualYCrop =  180\n",
    "\n",
    "        #actualYCrop = actualYCrop + int(cropSizeY)\n",
    "        print('3',actualYCrop)\n",
    "        #im_crop = im.crop((actualXCrop, actualYCrop, cropSizeX, cropSizeY))\n",
    "        im_crop = im.crop((actualXCrop, 1,1800,1800))\n",
    "        im_crop.save(\"./zosteraPictures/snippet/test1.jpg\", quality=95)\n",
    "        print(\"done \", i+1)\n",
    "        if i == int((maximalXIterations-1)):\n",
    "            actualXCrop = startX\n",
    "            actualYCrop = startY\n",
    "\n",
    "        \n",
    "\n",
    "\n",
    "\n",
    "\n"
   ]
  },
  {
   "cell_type": "code",
   "execution_count": 9,
   "metadata": {},
   "outputs": [],
   "source": [
    "#compress File to specific size\n",
    "from PIL import Image\n",
    "import glob, os\n",
    "\n",
    "size = 200, 200\n",
    "counter = 1\n",
    "\n",
    "for infile in glob.glob(\"*.jpg\"):\n",
    "    file, ext = os.path.splitext(infile)\n",
    "    with Image.open(infile) as im:\n",
    "        im.thumbnail(size)\n",
    "        im.save(file + str(counter) + \".jpg\", \"JPEG\")\n",
    "        counter = counter + 1"
   ]
  },
  {
   "cell_type": "code",
   "execution_count": 15,
   "metadata": {},
   "outputs": [],
   "source": [
    "#im = Image.open(\"E:\\Code\\Seegras\\zosteraPictures\\original\\ZosteraMarina_1.jpg\")\n",
    "#im.crop((60, 20, 1800,1800)).save(\"./zosteraPictures/snippet/test.jpg\", quality=95)\n",
    "\n",
    "#cropp File to specific size\n",
    "from PIL import Image\n",
    "import glob, os\n",
    "\n",
    "size = 200, 200\n",
    "counter = 1\n",
    "\n",
    "for infile in glob.glob(\"*.jpg\"):\n",
    "    file, ext = os.path.splitext(infile)\n",
    "    with Image.open(infile) as im:\n",
    "        im.crop((1, 1, 1800,1800)).save(file + str(counter) + \".jpg\", \"JPEG\", quality=95)\n",
    "        #im.save(file + str(counter) + \".jpg\", \"JPEG\")\n",
    "        counter = counter + 1"
   ]
  },
  {
   "cell_type": "code",
   "execution_count": 96,
   "metadata": {},
   "outputs": [
    {
     "ename": "FileExistsError",
     "evalue": "[WinError 183] Eine Datei kann nicht erstellt werden, wenn sie bereits vorhanden ist: 'zosteraPictures\\\\original\\\\\\\\ZosteraMarina_10.jpg' -> 'zosteraPictures\\\\original\\\\\\\\ZosteraMarina_2.jpg'",
     "output_type": "error",
     "traceback": [
      "\u001b[1;31m---------------------------------------------------------------------------\u001b[0m",
      "\u001b[1;31mFileExistsError\u001b[0m                           Traceback (most recent call last)",
      "\u001b[1;32me:\\Code\\Seegras\\cutPicture.ipynb Zelle 8\u001b[0m in \u001b[0;36m<cell line: 8>\u001b[1;34m()\u001b[0m\n\u001b[0;32m     <a href='vscode-notebook-cell:/e%3A/Code/Seegras/cutPicture.ipynb#X12sZmlsZQ%3D%3D?line=12'>13</a>\u001b[0m     destination \u001b[39m=\u001b[39m folder \u001b[39m+\u001b[39m \u001b[39m\"\u001b[39m\u001b[39mZosteraMarina_\u001b[39m\u001b[39m\"\u001b[39m \u001b[39m+\u001b[39m \u001b[39mstr\u001b[39m(count) \u001b[39m+\u001b[39m \u001b[39m\"\u001b[39m\u001b[39m.jpg\u001b[39m\u001b[39m\"\u001b[39m\n\u001b[0;32m     <a href='vscode-notebook-cell:/e%3A/Code/Seegras/cutPicture.ipynb#X12sZmlsZQ%3D%3D?line=14'>15</a>\u001b[0m     \u001b[39m# Renaming the file\u001b[39;00m\n\u001b[1;32m---> <a href='vscode-notebook-cell:/e%3A/Code/Seegras/cutPicture.ipynb#X12sZmlsZQ%3D%3D?line=15'>16</a>\u001b[0m     os\u001b[39m.\u001b[39;49mrename(source, destination)\n\u001b[0;32m     <a href='vscode-notebook-cell:/e%3A/Code/Seegras/cutPicture.ipynb#X12sZmlsZQ%3D%3D?line=16'>17</a>\u001b[0m     count \u001b[39m+\u001b[39m\u001b[39m=\u001b[39m \u001b[39m1\u001b[39m\n\u001b[0;32m     <a href='vscode-notebook-cell:/e%3A/Code/Seegras/cutPicture.ipynb#X12sZmlsZQ%3D%3D?line=17'>18</a>\u001b[0m \u001b[39mprint\u001b[39m(\u001b[39m'\u001b[39m\u001b[39mAll Files Renamed\u001b[39m\u001b[39m'\u001b[39m)\n",
      "\u001b[1;31mFileExistsError\u001b[0m: [WinError 183] Eine Datei kann nicht erstellt werden, wenn sie bereits vorhanden ist: 'zosteraPictures\\\\original\\\\\\\\ZosteraMarina_10.jpg' -> 'zosteraPictures\\\\original\\\\\\\\ZosteraMarina_2.jpg'"
     ]
    }
   ],
   "source": [
    "#Rename all files in Folder \n",
    "import os\n",
    "\n",
    "folder = r'zosteraPictures\\original\\\\'\n",
    "count = 1\n",
    "# count increase by 1 in each iteration\n",
    "# iterate all files from a directory\n",
    "for file_name in os.listdir(folder):\n",
    "    # Construct old file name\n",
    "    source = folder + file_name\n",
    "\n",
    "    # Adding the count to the new file name and extension\n",
    "    destination = folder + \"ZosteraMarina_\" + str(count) + \".jpg\"\n",
    "\n",
    "    # Renaming the file\n",
    "    os.rename(source, destination)\n",
    "    count += 1\n",
    "print('All Files Renamed')\n",
    "\n",
    "print('New Names are')\n",
    "# verify the result\n",
    "res = os.listdir(folder)\n",
    "print(res)"
   ]
  },
  {
   "cell_type": "code",
   "execution_count": 7,
   "metadata": {},
   "outputs": [
    {
     "name": "stdout",
     "output_type": "stream",
     "text": [
      "cannot create thumbnail for --ip=127.0.0.1\n",
      "cannot create thumbnail for --stdin=9029\n",
      "cannot create thumbnail for --control=9027\n",
      "cannot create thumbnail for --hb=9026\n",
      "cannot create thumbnail for --Session.signature_scheme=\"hmac-sha256\"\n",
      "cannot create thumbnail for --Session.key=b\"cfaf81c2-ee19-4a68-b853-36d12efdcfad\"\n",
      "cannot create thumbnail for --shell=9028\n",
      "cannot create thumbnail for --transport=\"tcp\"\n",
      "cannot create thumbnail for --iopub=9030\n",
      "cannot create thumbnail for --f=c:\\Users\\color\\AppData\\Roaming\\jupyter\\runtime\\kernel-v2-16876jeX7IlICu5hp.json\n"
     ]
    }
   ],
   "source": [
    "import os, sys\n",
    "from PIL import Image\n",
    "\n",
    "size = (cropSizeX, cropSizeY)\n",
    "\n",
    "for infile in sys.argv[1:]:\n",
    "    outfile = os.path.splitext(infile)[0] + \".thumbnail\"\n",
    "    if infile != outfile:\n",
    "        try:\n",
    "            with Image.open(infile) as im:\n",
    "                im.thumbnail(size)\n",
    "                im.save(outfile, \"JPEG\")\n",
    "        except OSError:\n",
    "            print(\"cannot create thumbnail for\", infile)"
   ]
  },
  {
   "cell_type": "code",
   "execution_count": null,
   "metadata": {},
   "outputs": [],
   "source": [
    "#Find out how many Crops\n"
   ]
  },
  {
   "cell_type": "code",
   "execution_count": 93,
   "metadata": {},
   "outputs": [
    {
     "name": "stdout",
     "output_type": "stream",
     "text": [
      "ZosteraMarine\n",
      "{'ZosteraMarine0': 1, 'ZosteraMarine1': 2, 'ZosteraMarine2': 3}\n"
     ]
    }
   ],
   "source": [
    "#Rename Picture Crop\n",
    "pictureName = \"ZosteraMarine\"\n",
    "startNumber = 1\n",
    "\n",
    "names = dict((pictureName + str(startNumber), startNumber+1) for startNumber in range(3))\n",
    "\n",
    "print(pictureName)\n",
    "print(names)\n",
    "\n",
    "#Next Step: use dic to iterate over it while splitting crops"
   ]
  },
  {
   "cell_type": "code",
   "execution_count": 8,
   "metadata": {},
   "outputs": [],
   "source": [
    "#identify picture name # Rename picture\n",
    "\n",
    "import sys\n",
    "from PIL import Image\n",
    "\n",
    "for infile in sys.argv[1:]:\n",
    "    try:\n",
    "        with Image.open(infile) as im:\n",
    "            print(infile, im.format, f\"{im.size}x{im.mode}\")\n",
    "    except OSError:\n",
    "        pass"
   ]
  },
  {
   "cell_type": "code",
   "execution_count": 9,
   "metadata": {},
   "outputs": [],
   "source": [
    "def roll(im, delta):\n",
    "    \"\"\"Roll an image sideways.\"\"\"\n",
    "    xsize, ysize = im.size\n",
    "\n",
    "    delta = delta % xsize\n",
    "    if delta == 0:\n",
    "        return im\n",
    "\n",
    "    part1 = im.crop((0, 0, delta, ysize))\n",
    "    part2 = im.crop((delta, 0, xsize, ysize))\n",
    "    im.paste(part1, (xsize - delta, 0, xsize, ysize))\n",
    "    im.paste(part2, (0, 0, xsize - delta, ysize))\n",
    "\n",
    "    return im"
   ]
  },
  {
   "cell_type": "code",
   "execution_count": 10,
   "metadata": {},
   "outputs": [
    {
     "ename": "FileNotFoundError",
     "evalue": "[Errno 2] No such file or directory: 'hopper.ppm'",
     "output_type": "error",
     "traceback": [
      "\u001b[1;31m---------------------------------------------------------------------------\u001b[0m",
      "\u001b[1;31mFileNotFoundError\u001b[0m                         Traceback (most recent call last)",
      "\u001b[1;32me:\\Code\\Seegras\\cutPicture.ipynb Zelle 14\u001b[0m in \u001b[0;36m<cell line: 6>\u001b[1;34m()\u001b[0m\n\u001b[0;32m      <a href='vscode-notebook-cell:/e%3A/Code/Seegras/cutPicture.ipynb#X16sZmlsZQ%3D%3D?line=0'>1</a>\u001b[0m \u001b[39m# Converting and Filter\u001b[39;00m\n\u001b[0;32m      <a href='vscode-notebook-cell:/e%3A/Code/Seegras/cutPicture.ipynb#X16sZmlsZQ%3D%3D?line=1'>2</a>\u001b[0m \u001b[39m# https://pillow.readthedocs.io/en/stable/handbook/tutorial.html\u001b[39;00m\n\u001b[0;32m      <a href='vscode-notebook-cell:/e%3A/Code/Seegras/cutPicture.ipynb#X16sZmlsZQ%3D%3D?line=3'>4</a>\u001b[0m \u001b[39mfrom\u001b[39;00m \u001b[39mPIL\u001b[39;00m \u001b[39mimport\u001b[39;00m Image\n\u001b[1;32m----> <a href='vscode-notebook-cell:/e%3A/Code/Seegras/cutPicture.ipynb#X16sZmlsZQ%3D%3D?line=5'>6</a>\u001b[0m \u001b[39mwith\u001b[39;00m Image\u001b[39m.\u001b[39;49mopen(\u001b[39m\"\u001b[39;49m\u001b[39mhopper.ppm\u001b[39;49m\u001b[39m\"\u001b[39;49m) \u001b[39mas\u001b[39;00m im:\n\u001b[0;32m      <a href='vscode-notebook-cell:/e%3A/Code/Seegras/cutPicture.ipynb#X16sZmlsZQ%3D%3D?line=6'>7</a>\u001b[0m     im \u001b[39m=\u001b[39m im\u001b[39m.\u001b[39mconvert(\u001b[39m\"\u001b[39m\u001b[39mL\u001b[39m\u001b[39m\"\u001b[39m)\n\u001b[0;32m      <a href='vscode-notebook-cell:/e%3A/Code/Seegras/cutPicture.ipynb#X16sZmlsZQ%3D%3D?line=8'>9</a>\u001b[0m \u001b[39m###############################################\u001b[39;00m\n",
      "File \u001b[1;32mc:\\Users\\color\\AppData\\Local\\Programs\\Python\\Python310\\lib\\site-packages\\PIL\\Image.py:3092\u001b[0m, in \u001b[0;36mopen\u001b[1;34m(fp, mode, formats)\u001b[0m\n\u001b[0;32m   3089\u001b[0m     filename \u001b[39m=\u001b[39m fp\n\u001b[0;32m   3091\u001b[0m \u001b[39mif\u001b[39;00m filename:\n\u001b[1;32m-> 3092\u001b[0m     fp \u001b[39m=\u001b[39m builtins\u001b[39m.\u001b[39;49mopen(filename, \u001b[39m\"\u001b[39;49m\u001b[39mrb\u001b[39;49m\u001b[39m\"\u001b[39;49m)\n\u001b[0;32m   3093\u001b[0m     exclusive_fp \u001b[39m=\u001b[39m \u001b[39mTrue\u001b[39;00m\n\u001b[0;32m   3095\u001b[0m \u001b[39mtry\u001b[39;00m:\n",
      "\u001b[1;31mFileNotFoundError\u001b[0m: [Errno 2] No such file or directory: 'hopper.ppm'"
     ]
    }
   ],
   "source": [
    "# Converting and Filter\n",
    "# https://pillow.readthedocs.io/en/stable/handbook/tutorial.html\n",
    "\n",
    "from PIL import Image\n",
    "\n",
    "with Image.open(\"hopper.ppm\") as im:\n",
    "    im = im.convert(\"L\")\n",
    "\n",
    "###############################################\n",
    "\n",
    "from PIL import ImageFilter\n",
    "out = im.filter(ImageFilter.DETAIL)\n",
    "\n",
    "###############################################\n",
    "\n",
    "#Pointing Pixels\n",
    "# multiply each pixel by 1.2\n",
    "out = im.point(lambda i: i * 1.2)"
   ]
  },
  {
   "cell_type": "code",
   "execution_count": null,
   "metadata": {},
   "outputs": [],
   "source": [
    "# Open from path \n",
    "\n",
    "from pathlib import Path\n",
    "\n",
    "paths = Path(\".\").glob(\"*.png\")\n",
    "for path in paths:\n",
    "    compress_image(path, path.stem + \".jpg\")"
   ]
  }
 ],
 "metadata": {
  "kernelspec": {
   "display_name": "Python 3.10.4 64-bit",
   "language": "python",
   "name": "python3"
  },
  "language_info": {
   "codemirror_mode": {
    "name": "ipython",
    "version": 3
   },
   "file_extension": ".py",
   "mimetype": "text/x-python",
   "name": "python",
   "nbconvert_exporter": "python",
   "pygments_lexer": "ipython3",
   "version": "3.10.4"
  },
  "orig_nbformat": 4,
  "vscode": {
   "interpreter": {
    "hash": "12dcd3c42cebf00fe2b37703d2e91e3fc51a1db754e29204822c94201714bf48"
   }
  }
 },
 "nbformat": 4,
 "nbformat_minor": 2
}
