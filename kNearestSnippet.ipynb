{
 "cells": [
  {
   "cell_type": "code",
   "execution_count": null,
   "metadata": {},
   "outputs": [],
   "source": []
  }
 ],
 "metadata": {
  "kernelspec": {
   "display_name": "Python 3.10.4 64-bit",
   "language": "python",
   "name": "python3"
  },
  "language_info": {
   "name": "python",
   "version": "3.10.4"
  },
  "orig_nbformat": 4,
  "vscode": {
   "interpreter": {
    "hash": "12dcd3c42cebf00fe2b37703d2e91e3fc51a1db754e29204822c94201714bf48"
   }
  }
 },
 "nbformat": 4,
 "nbformat_minor": 2
}
