{
 "cells": [
  {
   "cell_type": "code",
   "execution_count": null,
   "metadata": {},
   "outputs": [],
   "source": [
    "# Get WebCam Pictures"
   ]
  },
  {
   "cell_type": "code",
   "execution_count": 8,
   "metadata": {},
   "outputs": [],
   "source": [
    "import cv2\n",
    "camera = cv2.VideoCapture(0)\n",
    "camera.set(3,3840) #width=640\n",
    "camera.set(4,2160) #height=480\n",
    "\n",
    "while True:\n",
    "    return_value,image = camera.read()\n",
    "    gray = cv2.cvtColor(image,cv2.COLOR_BGR2GRAY)\n",
    "    cv2.imshow('image',gray)\n",
    "    if cv2.waitKey(1)& 0xFF == ord('s'):\n",
    "\n",
    "        cv2.imwrite('test.jpg',image)\n",
    "        cv2.destroyAllWindows()\n",
    "        break\n",
    "\n",
    "camera.release()\n",
    "#cv2.destroyAllWindows()\n",
    "\n",
    "\n"
   ]
  },
  {
   "cell_type": "code",
   "execution_count": 5,
   "metadata": {},
   "outputs": [],
   "source": [
    "import cv2\n",
    "\n",
    "\n",
    "cap = cv2.VideoCapture(0) # video capture source camera (Here webcam of laptop) \n",
    "cap.set(3,3840) #width=640\n",
    "cap.set(4,2160) #height=480\n",
    "ret,frame = cap.read() # return a single frame in variable `frame`\n",
    "\n",
    "while(True):\n",
    "    cv2.imshow('img1',frame) #display the captured image\n",
    "    if cv2.waitKey(1) & 0xFF == ord('y'): #save on pressing 'y' \n",
    "        cv2.imwrite('images/c1.png',frame)\n",
    "        cv2.destroyAllWindows()\n",
    "        break\n",
    "\n",
    "cap.release()\n"
   ]
  },
  {
   "cell_type": "code",
   "execution_count": 4,
   "metadata": {},
   "outputs": [
    {
     "ename": "NameError",
     "evalue": "name 'name' is not defined",
     "output_type": "error",
     "traceback": [
      "\u001b[1;31m---------------------------------------------------------------------------\u001b[0m",
      "\u001b[1;31mNameError\u001b[0m                                 Traceback (most recent call last)",
      "\u001b[1;32me:\\FromGit\\CNN-Seagrass\\getWebCam.ipynb Zelle 4\u001b[0m in \u001b[0;36m<cell line: 7>\u001b[1;34m()\u001b[0m\n\u001b[0;32m     <a href='vscode-notebook-cell:/e%3A/FromGit/CNN-Seagrass/getWebCam.ipynb#W6sZmlsZQ%3D%3D?line=9'>10</a>\u001b[0m \u001b[39mif\u001b[39;00m _ \u001b[39mand\u001b[39;00m frame \u001b[39mis\u001b[39;00m \u001b[39mnot\u001b[39;00m \u001b[39mNone\u001b[39;00m:\n\u001b[0;32m     <a href='vscode-notebook-cell:/e%3A/FromGit/CNN-Seagrass/getWebCam.ipynb#W6sZmlsZQ%3D%3D?line=10'>11</a>\u001b[0m     cv2\u001b[39m.\u001b[39mimwrite(\u001b[39m'\u001b[39m\u001b[39mimg.jpg\u001b[39m\u001b[39m'\u001b[39m, frame)\n\u001b[1;32m---> <a href='vscode-notebook-cell:/e%3A/FromGit/CNN-Seagrass/getWebCam.ipynb#W6sZmlsZQ%3D%3D?line=11'>12</a>\u001b[0m     cv2\u001b[39m.\u001b[39mimwrite(name, frame)\n",
      "\u001b[1;31mNameError\u001b[0m: name 'name' is not defined"
     ]
    }
   ],
   "source": [
    "import cv2\n",
    "cap = cv2.VideoCapture(0)\n",
    "cap.set(3,3840) #width=640\n",
    "cap.set(4,2160) #height=480\n",
    " \n",
    " \n",
    "if cap.isOpened():\n",
    "    _,frame = cap.read()\n",
    "    cap.release() #releasing camera immediately after capturing picture\n",
    "    if _ and frame is not None:\n",
    "        cv2.imwrite('img.jpg', frame)\n",
    "        cv2.imwrite(name, frame)"
   ]
  },
  {
   "cell_type": "code",
   "execution_count": 10,
   "metadata": {},
   "outputs": [
    {
     "ename": "SyntaxError",
     "evalue": "invalid syntax (3817908978.py, line 3)",
     "output_type": "error",
     "traceback": [
      "\u001b[1;36m  Input \u001b[1;32mIn [10]\u001b[1;36m\u001b[0m\n\u001b[1;33m    Webcam webcam = Webcam.getDefault();\u001b[0m\n\u001b[1;37m           ^\u001b[0m\n\u001b[1;31mSyntaxError\u001b[0m\u001b[1;31m:\u001b[0m invalid syntax\n"
     ]
    }
   ],
   "source": [
    "#https://github.com/sarxos/webcam-capture\n",
    "\n",
    "Webcam webcam = Webcam.getDefault();\n",
    "webcam.open();\n",
    "try {\n",
    "  ImageIO.write(webcam.getImage(), \"PNG\", new File(\"test.png\"));\n",
    "} catch (IOException e) {\n",
    "  e.printStackTrace();\n",
    "} finally {\n",
    "  webcam.close();\n",
    "}"
   ]
  },
  {
   "cell_type": "code",
   "execution_count": 8,
   "metadata": {},
   "outputs": [
    {
     "ename": "KeyboardInterrupt",
     "evalue": "",
     "output_type": "error",
     "traceback": [
      "\u001b[1;31m---------------------------------------------------------------------------\u001b[0m",
      "\u001b[1;31mKeyboardInterrupt\u001b[0m                         Traceback (most recent call last)",
      "\u001b[1;32me:\\FromGit\\CNN-Seagrass\\getWebCam.ipynb Zelle 5\u001b[0m in \u001b[0;36m<cell line: 4>\u001b[1;34m()\u001b[0m\n\u001b[0;32m      <a href='vscode-notebook-cell:/e%3A/FromGit/CNN-Seagrass/getWebCam.ipynb#W4sZmlsZQ%3D%3D?line=0'>1</a>\u001b[0m \u001b[39mfrom\u001b[39;00m \u001b[39mecapture\u001b[39;00m \u001b[39mimport\u001b[39;00m ecapture \u001b[39mas\u001b[39;00m ec\n\u001b[1;32m----> <a href='vscode-notebook-cell:/e%3A/FromGit/CNN-Seagrass/getWebCam.ipynb#W4sZmlsZQ%3D%3D?line=3'>4</a>\u001b[0m ec\u001b[39m.\u001b[39;49mcapture(\u001b[39m1\u001b[39;49m,\u001b[39m\"\u001b[39;49m\u001b[39mtest\u001b[39;49m\u001b[39m\"\u001b[39;49m,\u001b[39m\"\u001b[39;49m\u001b[39mimg.jpg\u001b[39;49m\u001b[39m\"\u001b[39;49m)\n",
      "File \u001b[1;32m~\\AppData\\Local\\Packages\\PythonSoftwareFoundation.Python.3.9_qbz5n2kfra8p0\\LocalCache\\local-packages\\Python39\\site-packages\\ecapture\\ecapture.py:17\u001b[0m, in \u001b[0;36mcapture\u001b[1;34m(cameraIndex, windowName, saveName)\u001b[0m\n\u001b[0;32m     15\u001b[0m    logging\u001b[39m.\u001b[39merror(\u001b[39m'\u001b[39m\u001b[39mUnable to open image source: \u001b[39m\u001b[39m'\u001b[39m \u001b[39m+\u001b[39m \u001b[39mstr\u001b[39m(cameraIndex))\n\u001b[0;32m     16\u001b[0m    \u001b[39mreturn\u001b[39;00m\n\u001b[1;32m---> 17\u001b[0m ret, frame \u001b[39m=\u001b[39m cam\u001b[39m.\u001b[39;49mread()\n\u001b[0;32m     18\u001b[0m \u001b[39mif\u001b[39;00m ret:\n\u001b[0;32m     19\u001b[0m     \u001b[39mif\u001b[39;00m(saveName \u001b[39m!=\u001b[39m \u001b[39mFalse\u001b[39;00m):\n",
      "\u001b[1;31mKeyboardInterrupt\u001b[0m: "
     ]
    }
   ],
   "source": [
    "from ecapture import ecapture as ec\n",
    "\n",
    "\n",
    "ec.capture(1,\"test\",\"img.jpg\")\n",
    "\n"
   ]
  },
  {
   "cell_type": "code",
   "execution_count": null,
   "metadata": {},
   "outputs": [],
   "source": []
  }
 ],
 "metadata": {
  "kernelspec": {
   "display_name": "Python 3.9.13 64-bit (microsoft store)",
   "language": "python",
   "name": "python3"
  },
  "language_info": {
   "codemirror_mode": {
    "name": "ipython",
    "version": 3
   },
   "file_extension": ".py",
   "mimetype": "text/x-python",
   "name": "python",
   "nbconvert_exporter": "python",
   "pygments_lexer": "ipython3",
   "version": "3.9.13"
  },
  "orig_nbformat": 4,
  "vscode": {
   "interpreter": {
    "hash": "6e2b1d47f29d35c2075e8f590e79561c5d108ccbe56a054d7424e9ee77454b10"
   }
  }
 },
 "nbformat": 4,
 "nbformat_minor": 2
}
