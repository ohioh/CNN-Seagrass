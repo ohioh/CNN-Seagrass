{
 "cells": [
  {
   "cell_type": "markdown",
   "metadata": {},
   "source": []
  },
  {
   "cell_type": "code",
   "execution_count": 3,
   "metadata": {},
   "outputs": [
    {
     "name": "stdout",
     "output_type": "stream",
     "text": [
      "All Files Renamed\n",
      "New Names are\n",
      "['ZosteraMarina_1.jpg', 'ZosteraMarina_10.jpg', 'ZosteraMarina_100.jpg', 'ZosteraMarina_101.jpg', 'ZosteraMarina_102.jpg', 'ZosteraMarina_103.jpg', 'ZosteraMarina_104.jpg', 'ZosteraMarina_105.jpg', 'ZosteraMarina_106.jpg', 'ZosteraMarina_107.jpg', 'ZosteraMarina_108.jpg', 'ZosteraMarina_109.jpg', 'ZosteraMarina_11.jpg', 'ZosteraMarina_110.jpg', 'ZosteraMarina_111.jpg', 'ZosteraMarina_112.jpg', 'ZosteraMarina_113.jpg', 'ZosteraMarina_114.jpg', 'ZosteraMarina_115.jpg', 'ZosteraMarina_116.jpg', 'ZosteraMarina_117.jpg', 'ZosteraMarina_118.jpg', 'ZosteraMarina_119.jpg', 'ZosteraMarina_12.jpg', 'ZosteraMarina_120.jpg', 'ZosteraMarina_121.jpg', 'ZosteraMarina_122.jpg', 'ZosteraMarina_123.jpg', 'ZosteraMarina_124.jpg', 'ZosteraMarina_125.jpg', 'ZosteraMarina_126.jpg', 'ZosteraMarina_127.jpg', 'ZosteraMarina_128.jpg', 'ZosteraMarina_129.jpg', 'ZosteraMarina_13.jpg', 'ZosteraMarina_130.jpg', 'ZosteraMarina_131.jpg', 'ZosteraMarina_132.jpg', 'ZosteraMarina_133.jpg', 'ZosteraMarina_134.jpg', 'ZosteraMarina_135.jpg', 'ZosteraMarina_136.jpg', 'ZosteraMarina_137.jpg', 'ZosteraMarina_138.jpg', 'ZosteraMarina_139.jpg', 'ZosteraMarina_14.jpg', 'ZosteraMarina_140.jpg', 'ZosteraMarina_141.jpg', 'ZosteraMarina_142.jpg', 'ZosteraMarina_143.jpg', 'ZosteraMarina_144.jpg', 'ZosteraMarina_145.jpg', 'ZosteraMarina_146.jpg', 'ZosteraMarina_147.jpg', 'ZosteraMarina_148.jpg', 'ZosteraMarina_149.jpg', 'ZosteraMarina_15.jpg', 'ZosteraMarina_150.jpg', 'ZosteraMarina_151.jpg', 'ZosteraMarina_152.jpg', 'ZosteraMarina_153.jpg', 'ZosteraMarina_154.jpg', 'ZosteraMarina_155.jpg', 'ZosteraMarina_156.jpg', 'ZosteraMarina_157.jpg', 'ZosteraMarina_158.jpg', 'ZosteraMarina_159.jpg', 'ZosteraMarina_16.jpg', 'ZosteraMarina_160.jpg', 'ZosteraMarina_161.jpg', 'ZosteraMarina_162.jpg', 'ZosteraMarina_163.jpg', 'ZosteraMarina_164.jpg', 'ZosteraMarina_165.jpg', 'ZosteraMarina_166.jpg', 'ZosteraMarina_167.jpg', 'ZosteraMarina_168.jpg', 'ZosteraMarina_169.jpg', 'ZosteraMarina_17.jpg', 'ZosteraMarina_170.jpg', 'ZosteraMarina_171.jpg', 'ZosteraMarina_172.jpg', 'ZosteraMarina_173.jpg', 'ZosteraMarina_174.jpg', 'ZosteraMarina_175.jpg', 'ZosteraMarina_176.jpg', 'ZosteraMarina_177.jpg', 'ZosteraMarina_178.jpg', 'ZosteraMarina_179.jpg', 'ZosteraMarina_18.jpg', 'ZosteraMarina_180.jpg', 'ZosteraMarina_181.jpg', 'ZosteraMarina_182.jpg', 'ZosteraMarina_183.jpg', 'ZosteraMarina_184.jpg', 'ZosteraMarina_185.jpg', 'ZosteraMarina_186.jpg', 'ZosteraMarina_187.jpg', 'ZosteraMarina_188.jpg', 'ZosteraMarina_189.jpg', 'ZosteraMarina_19.jpg', 'ZosteraMarina_190.jpg', 'ZosteraMarina_191.jpg', 'ZosteraMarina_192.jpg', 'ZosteraMarina_193.jpg', 'ZosteraMarina_194.jpg', 'ZosteraMarina_195.jpg', 'ZosteraMarina_196.jpg', 'ZosteraMarina_197.jpg', 'ZosteraMarina_198.jpg', 'ZosteraMarina_199.jpg', 'ZosteraMarina_2.jpg', 'ZosteraMarina_20.jpg', 'ZosteraMarina_200.jpg', 'ZosteraMarina_201.jpg', 'ZosteraMarina_202.jpg', 'ZosteraMarina_203.jpg', 'ZosteraMarina_204.jpg', 'ZosteraMarina_205.jpg', 'ZosteraMarina_206.jpg', 'ZosteraMarina_207.jpg', 'ZosteraMarina_208.jpg', 'ZosteraMarina_209.jpg', 'ZosteraMarina_21.jpg', 'ZosteraMarina_210.jpg', 'ZosteraMarina_211.jpg', 'ZosteraMarina_212.jpg', 'ZosteraMarina_213.jpg', 'ZosteraMarina_214.jpg', 'ZosteraMarina_215.jpg', 'ZosteraMarina_216.jpg', 'ZosteraMarina_217.jpg', 'ZosteraMarina_218.jpg', 'ZosteraMarina_219.jpg', 'ZosteraMarina_22.jpg', 'ZosteraMarina_23.jpg', 'ZosteraMarina_24.jpg', 'ZosteraMarina_25.jpg', 'ZosteraMarina_26.jpg', 'ZosteraMarina_27.jpg', 'ZosteraMarina_28.jpg', 'ZosteraMarina_29.jpg', 'ZosteraMarina_3.jpg', 'ZosteraMarina_30.jpg', 'ZosteraMarina_31.jpg', 'ZosteraMarina_32.jpg', 'ZosteraMarina_33.jpg', 'ZosteraMarina_34.jpg', 'ZosteraMarina_35.jpg', 'ZosteraMarina_36.jpg', 'ZosteraMarina_37.jpg', 'ZosteraMarina_38.jpg', 'ZosteraMarina_39.jpg', 'ZosteraMarina_4.jpg', 'ZosteraMarina_40.jpg', 'ZosteraMarina_41.jpg', 'ZosteraMarina_42.jpg', 'ZosteraMarina_43.jpg', 'ZosteraMarina_44.jpg', 'ZosteraMarina_45.jpg', 'ZosteraMarina_46.jpg', 'ZosteraMarina_47.jpg', 'ZosteraMarina_48.jpg', 'ZosteraMarina_49.jpg', 'ZosteraMarina_5.jpg', 'ZosteraMarina_50.jpg', 'ZosteraMarina_51.jpg', 'ZosteraMarina_52.jpg', 'ZosteraMarina_53.jpg', 'ZosteraMarina_54.jpg', 'ZosteraMarina_55.jpg', 'ZosteraMarina_56.jpg', 'ZosteraMarina_57.jpg', 'ZosteraMarina_58.jpg', 'ZosteraMarina_59.jpg', 'ZosteraMarina_6.jpg', 'ZosteraMarina_60.jpg', 'ZosteraMarina_61.jpg', 'ZosteraMarina_62.jpg', 'ZosteraMarina_63.jpg', 'ZosteraMarina_64.jpg', 'ZosteraMarina_65.jpg', 'ZosteraMarina_66.jpg', 'ZosteraMarina_67.jpg', 'ZosteraMarina_68.jpg', 'ZosteraMarina_69.jpg', 'ZosteraMarina_7.jpg', 'ZosteraMarina_70.jpg', 'ZosteraMarina_71.jpg', 'ZosteraMarina_72.jpg', 'ZosteraMarina_73.jpg', 'ZosteraMarina_74.jpg', 'ZosteraMarina_75.jpg', 'ZosteraMarina_76.jpg', 'ZosteraMarina_77.jpg', 'ZosteraMarina_78.jpg', 'ZosteraMarina_79.jpg', 'ZosteraMarina_8.jpg', 'ZosteraMarina_80.jpg', 'ZosteraMarina_81.jpg', 'ZosteraMarina_82.jpg', 'ZosteraMarina_83.jpg', 'ZosteraMarina_84.jpg', 'ZosteraMarina_85.jpg', 'ZosteraMarina_86.jpg', 'ZosteraMarina_87.jpg', 'ZosteraMarina_88.jpg', 'ZosteraMarina_89.jpg', 'ZosteraMarina_9.jpg', 'ZosteraMarina_90.jpg', 'ZosteraMarina_91.jpg', 'ZosteraMarina_92.jpg', 'ZosteraMarina_93.jpg', 'ZosteraMarina_94.jpg', 'ZosteraMarina_95.jpg', 'ZosteraMarina_96.jpg', 'ZosteraMarina_97.jpg', 'ZosteraMarina_98.jpg', 'ZosteraMarina_99.jpg']\n"
     ]
    }
   ],
   "source": [
    "import os\n",
    "\n",
    "folder = r'zosteraPictures\\original\\\\'\n",
    "count = 1\n",
    "# count increase by 1 in each iteration\n",
    "# iterate all files from a directory\n",
    "for file_name in os.listdir(folder):\n",
    "    # Construct old file name\n",
    "    source = folder + file_name\n",
    "\n",
    "    # Adding the count to the new file name and extension\n",
    "    destination = folder + \"ZosteraMarina_\" + str(count) + \".jpg\"\n",
    "\n",
    "    # Renaming the file\n",
    "    os.rename(source, destination)\n",
    "    count += 1\n",
    "print('All Files Renamed')\n",
    "\n",
    "print('New Names are')\n",
    "# verify the result\n",
    "res = os.listdir(folder)\n",
    "print(res)"
   ]
  }
 ],
 "metadata": {
  "kernelspec": {
   "display_name": "Python 3.10.4 64-bit",
   "language": "python",
   "name": "python3"
  },
  "language_info": {
   "codemirror_mode": {
    "name": "ipython",
    "version": 3
   },
   "file_extension": ".py",
   "mimetype": "text/x-python",
   "name": "python",
   "nbconvert_exporter": "python",
   "pygments_lexer": "ipython3",
   "version": "3.10.4"
  },
  "orig_nbformat": 4,
  "vscode": {
   "interpreter": {
    "hash": "12dcd3c42cebf00fe2b37703d2e91e3fc51a1db754e29204822c94201714bf48"
   }
  }
 },
 "nbformat": 4,
 "nbformat_minor": 2
}
